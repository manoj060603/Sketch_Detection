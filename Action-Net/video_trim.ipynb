{
 "cells": [
  {
   "cell_type": "code",
   "execution_count": 9,
   "metadata": {},
   "outputs": [],
   "source": [
    "import ffmpeg \n",
    "import pandas as pd\n",
    "import numpy \n",
    "import cv2"
   ]
  },
  {
   "cell_type": "code",
   "execution_count": 10,
   "metadata": {},
   "outputs": [],
   "source": [
    "source_path = \"./test_videos/S4_T3_Aditya_P1.mp4\"\n",
    "destination_path = \"./whiteboard_clips/S4_T3_Aditya_P1/S4_T3_Aditya_P1_wb_clip\"\n",
    "df = pd.read_csv('./whiteboard_clips/S4_T3_Aditya_P1/white_board_time.csv')\n",
    "arr = df.to_numpy()\n",
    "cap = cv2.VideoCapture(source_path) \n",
    "frame_per_sec = cap.get(cv2.CAP_PROP_FPS)"
   ]
  },
  {
   "cell_type": "code",
   "execution_count": 11,
   "metadata": {},
   "outputs": [],
   "source": [
    "def video_trim(source_path,destination_path,start_time,end_time,clip_count):\n",
    "    (\n",
    "\tffmpeg.input(source_path, ss=start_time, to=end_time)\n",
    "\t.filter('fps', fps=frame_per_sec, round='up')\n",
    "\t.output(destination_path+\"_{}.mp4\".format(str(clip_count)))\n",
    "\t.run()\n",
    "    ) "
   ]
  },
  {
   "cell_type": "code",
   "execution_count": 12,
   "metadata": {},
   "outputs": [],
   "source": [
    "for i in range(0,df.shape[0]):\n",
    "    start_time = str(arr[i][0])\n",
    "    end_time = str(arr[i][1])\n",
    "    video_trim(source_path,destination_path,start_time,end_time,i+1)"
   ]
  }
 ],
 "metadata": {
  "kernelspec": {
   "display_name": "skdet_tf",
   "language": "python",
   "name": "python3"
  },
  "language_info": {
   "codemirror_mode": {
    "name": "ipython",
    "version": 3
   },
   "file_extension": ".py",
   "mimetype": "text/x-python",
   "name": "python",
   "nbconvert_exporter": "python",
   "pygments_lexer": "ipython3",
   "version": "3.10.11"
  },
  "orig_nbformat": 4
 },
 "nbformat": 4,
 "nbformat_minor": 2
}
