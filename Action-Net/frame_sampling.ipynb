{
 "cells": [
  {
   "cell_type": "code",
   "execution_count": 42,
   "metadata": {},
   "outputs": [],
   "source": [
    "# Defining the libraries\n",
    "import cv2  \n",
    "import csv\n",
    "import datetime\n",
    "import pandas as pd\n",
    "import os\n",
    "import numpy as np\n",
    "from skimage.metrics import structural_similarity"
   ]
  },
  {
   "cell_type": "code",
   "execution_count": 43,
   "metadata": {},
   "outputs": [
    {
     "name": "stdout",
     "output_type": "stream",
     "text": [
      "30\n"
     ]
    }
   ],
   "source": [
    "cap = cv2.VideoCapture('./test_videos/S2_T10_Ambady.mp4')\n",
    "frames = cap.get(cv2.CAP_PROP_FRAME_COUNT)\n",
    "fps = cap.get(cv2.CAP_PROP_FPS)\n",
    "print(round(fps))"
   ]
  },
  {
   "cell_type": "code",
   "execution_count": 16,
   "metadata": {},
   "outputs": [],
   "source": [
    "fields = ['frame no.','timestamp']\n",
    "filename = \"frames.csv\" \n",
    "\n",
    "with open(filename, 'w') as csvfile: \n",
    "    # creating a csv writer object \n",
    "    csvwriter = csv.writer(csvfile) \n",
    "        \n",
    "    # writing the fields \n",
    "    csvwriter.writerow(fields) "
   ]
  },
  {
   "cell_type": "code",
   "execution_count": 17,
   "metadata": {},
   "outputs": [],
   "source": [
    "def mil_convert(milliseconds):\n",
    "  seconds, milliseconds = divmod(milliseconds, 1000)\n",
    "  minutes, seconds = divmod(seconds, 60)\n",
    "  hours ,minutes =divmod(minutes,60)\n",
    "  \n",
    "  hours_str   =  str(round(hours))\n",
    "  minutes_str = str(round(minutes))\n",
    "  seconds_str = str(round(seconds))\n",
    "\n",
    "  if(round(hours)<10):\n",
    "    hours_str = \"0\" + hours_str\n",
    "  \n",
    "  if(round(minutes)<10):\n",
    "    minutes_str = \"0\" + minutes_str\n",
    "\n",
    "  if(round(seconds)<10):\n",
    "    seconds_str = \"0\" + seconds_str  \n",
    "\n",
    "  time = hours_str +\":\"+ minutes_str +\":\"+seconds_str\n",
    "  return time"
   ]
  },
  {
   "cell_type": "code",
   "execution_count": 18,
   "metadata": {},
   "outputs": [],
   "source": [
    "frame_no = 0\n",
    "while(cap.isOpened()):\n",
    "\n",
    "    frame_exists, curr_frame = cap.read()\n",
    "    \n",
    "    if (frame_exists):\n",
    "        if (frame_no%round(fps) ==0):\n",
    "         timestamp = mil_convert(cap.get(cv2.CAP_PROP_POS_MSEC))\n",
    "         cv2.imwrite()\n",
    "         data = { \n",
    "          'frame_no.' : [frame_no ],\n",
    "          'timestamp' : [timestamp],\n",
    "            }\n",
    "\n",
    "         df = pd.DataFrame(data)\n",
    "         df.to_csv(\"frames.csv\",mode ='a' , index=False, header=False) # Change name of csv file according to video\n",
    "    else:\n",
    "        break\n",
    "    frame_no+=1 \n",
    "cap.release()\n",
    "cv2.destroyAllWindows()\n"
   ]
  },
  {
   "cell_type": "code",
   "execution_count": 37,
   "metadata": {},
   "outputs": [
    {
     "name": "stdout",
     "output_type": "stream",
     "text": [
      "      frame no. timestamp\n",
      "0             0  00:00:00\n",
      "1            30  00:00:01\n",
      "2            60  00:00:02\n",
      "3            90  00:00:03\n",
      "4           120  00:00:04\n",
      "...         ...       ...\n",
      "9264     277920  02:34:24\n",
      "9265     277950  02:34:25\n",
      "9266     277980  02:34:26\n",
      "9267     278010  02:34:27\n",
      "9268     278040  02:34:28\n",
      "\n",
      "[9269 rows x 2 columns]\n"
     ]
    }
   ],
   "source": [
    "df=pd.read_csv('frames.csv')\n",
    "print(df)\n",
    "mat = df.to_numpy()"
   ]
  },
  {
   "cell_type": "code",
   "execution_count": 44,
   "metadata": {},
   "outputs": [],
   "source": [
    "w_frame, h_frame = int(cap.get(cv2.CAP_PROP_FRAME_WIDTH)), int(cap.get(cv2.CAP_PROP_FRAME_HEIGHT))\n",
    "h_min=round(0.110*h_frame)\n",
    "h_max=round(0.79*h_frame)\n",
    "w_min=round(0)\n",
    "w_max=round(w_frame)\n",
    "w=w_max-w_min\n",
    "h=h_max-h_min\n",
    "\n",
    "\n",
    "def saveframes(framecount):\n",
    "    cap.set(1,framecount); # Where frame_no is the frame you want\n",
    "    ret, img_0 = cap.read()\n",
    "    img_0_crop = img_0[h_min:h_max, w_min:w_max]\n",
    "    cv2.imwrite(\"./frames/frame%d.jpg\" % framecount,img_0_crop)\n",
    "\n",
    "for i in range(0,df.shape[0]):\n",
    "    saveframes(mat[i][0])"
   ]
  }
 ],
 "metadata": {
  "kernelspec": {
   "display_name": "skdet_tf",
   "language": "python",
   "name": "python3"
  },
  "language_info": {
   "codemirror_mode": {
    "name": "ipython",
    "version": 3
   },
   "file_extension": ".py",
   "mimetype": "text/x-python",
   "name": "python",
   "nbconvert_exporter": "python",
   "pygments_lexer": "ipython3",
   "version": "3.10.11"
  },
  "orig_nbformat": 4
 },
 "nbformat": 4,
 "nbformat_minor": 2
}
