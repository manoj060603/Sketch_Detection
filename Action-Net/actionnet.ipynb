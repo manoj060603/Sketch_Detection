{
 "cells": [
  {
   "cell_type": "code",
   "execution_count": 1,
   "metadata": {},
   "outputs": [],
   "source": [
    "import tensorflow as tf \n",
    "import keras\n",
    "from keras.applications.inception_resnet_v2 import InceptionResNetV2\n",
    "import keras.utils as image\n",
    "from tensorflow.keras.applications.inception_resnet_v2 import preprocess_input, decode_predictions\n",
    "import numpy as np\n",
    "from keras.models import Model,Sequential\n",
    "from tensorflow.keras.layers import *\n",
    "from tensorflow.keras import optimizers\n",
    "import pandas as pd \n",
    "import cv2\n",
    "import os \n",
    "import matplotlib.pyplot as plt\n",
    "from tensorflow.keras.metrics import Precision,Recall"
   ]
  },
  {
   "cell_type": "markdown",
   "metadata": {},
   "source": [
    "Data Pipeline"
   ]
  },
  {
   "cell_type": "code",
   "execution_count": 2,
   "metadata": {},
   "outputs": [],
   "source": [
    "physical_devices =tf.config.list_physical_devices ('GPU')\n",
    "tf.config.experimental.set_memory_growth(physical_devices[0],True)"
   ]
  },
  {
   "cell_type": "code",
   "execution_count": 3,
   "metadata": {},
   "outputs": [],
   "source": [
    "csv_file_path = './data/train.csv'\n",
    "directory = './data/'\n",
    "batch_size= 16"
   ]
  },
  {
   "cell_type": "code",
   "execution_count": 4,
   "metadata": {},
   "outputs": [],
   "source": [
    "df = pd.read_csv(csv_file_path)\n",
    "image1 = df['frame_A'].values\n",
    "image2 = df['frame_B'].values\n",
    "# image_pairs = df[['frame_A','frame_B']].values\n",
    "labels = df['label'].values"
   ]
  },
  {
   "cell_type": "code",
   "execution_count": 5,
   "metadata": {},
   "outputs": [],
   "source": [
    "data = tf.data.Dataset.from_tensor_slices((image1,image2,labels))"
   ]
  },
  {
   "cell_type": "code",
   "execution_count": 6,
   "metadata": {},
   "outputs": [
    {
     "data": {
      "text/plain": [
       "<TensorSliceDataset element_spec=(TensorSpec(shape=(), dtype=tf.string, name=None), TensorSpec(shape=(), dtype=tf.string, name=None), TensorSpec(shape=(), dtype=tf.int64, name=None))>"
      ]
     },
     "execution_count": 6,
     "metadata": {},
     "output_type": "execute_result"
    }
   ],
   "source": [
    "data"
   ]
  },
  {
   "cell_type": "code",
   "execution_count": 7,
   "metadata": {},
   "outputs": [],
   "source": [
    "def read_image(image_path):\n",
    "\n",
    "   img = tf.io.read_file(image_path)\n",
    "   img = tf.image.decode_image(img,channels=3,dtype=tf.float32)\n",
    "   \n",
    "   return img"
   ]
  },
  {
   "cell_type": "code",
   "execution_count": 8,
   "metadata": {},
   "outputs": [],
   "source": [
    "def read_pair(image1_path,image2_path,label):\n",
    "   \n",
    "   return (read_image(directory+image1_path),read_image(directory+image2_path),label)"
   ]
  },
  {
   "cell_type": "code",
   "execution_count": 9,
   "metadata": {},
   "outputs": [],
   "source": [
    "# test_pairs,test_label = read_pair(image_pairs[0],labels[0])\n",
    "# img_test =test_pairs[1]\n",
    "# a = img_test.numpy()\n",
    "# print(a.max())\n",
    "# plt.imshow(a)"
   ]
  },
  {
   "cell_type": "code",
   "execution_count": 10,
   "metadata": {},
   "outputs": [],
   "source": [
    "data = data.map(read_pair)\n",
    "data = data.cache()\n",
    "data = data.shuffle(buffer_size=1024)"
   ]
  },
  {
   "cell_type": "code",
   "execution_count": 11,
   "metadata": {},
   "outputs": [],
   "source": [
    "# samples = data.as_numpy_iterator()\n",
    "# example = samples.next()\n",
    "# print(len(example[0][0][0][0]))\n",
    "# example"
   ]
  },
  {
   "cell_type": "code",
   "execution_count": 12,
   "metadata": {},
   "outputs": [],
   "source": [
    "# plt.imshow(example[0])"
   ]
  },
  {
   "cell_type": "code",
   "execution_count": 13,
   "metadata": {},
   "outputs": [],
   "source": [
    "# train test partition\n",
    "train_data = data.take(round(len(data)*.7))\n",
    "train_data = train_data.batch(4)\n",
    "train_data = train_data.prefetch(2)"
   ]
  },
  {
   "cell_type": "code",
   "execution_count": 14,
   "metadata": {},
   "outputs": [
    {
     "data": {
      "text/plain": [
       "<PrefetchDataset element_spec=(TensorSpec(shape=<unknown>, dtype=tf.float32, name=None), TensorSpec(shape=<unknown>, dtype=tf.float32, name=None), TensorSpec(shape=(None,), dtype=tf.int64, name=None))>"
      ]
     },
     "execution_count": 14,
     "metadata": {},
     "output_type": "execute_result"
    }
   ],
   "source": [
    "train_data"
   ]
  },
  {
   "cell_type": "code",
   "execution_count": 103,
   "metadata": {},
   "outputs": [],
   "source": [
    "train_samples = train_data.as_numpy_iterator()\n",
    "train_sample =train_samples.next()\n",
    "train_sample[2]"
   ]
  },
  {
   "cell_type": "code",
   "execution_count": 128,
   "metadata": {},
   "outputs": [],
   "source": [
    "test_data = data.skip(round(len(data)*.7))\n",
    "test_data=test_data.take(round(len(data)*.3))\n",
    "test_data=test_data.batch(4)\n",
    "test_data=test_data.prefetch(2)"
   ]
  },
  {
   "cell_type": "code",
   "execution_count": 116,
   "metadata": {},
   "outputs": [
    {
     "data": {
      "text/plain": [
       "<PrefetchDataset element_spec=(TensorSpec(shape=<unknown>, dtype=tf.float32, name=None), TensorSpec(shape=<unknown>, dtype=tf.float32, name=None), TensorSpec(shape=(None,), dtype=tf.int64, name=None))>"
      ]
     },
     "execution_count": 116,
     "metadata": {},
     "output_type": "execute_result"
    }
   ],
   "source": [
    "test_data"
   ]
  },
  {
   "cell_type": "code",
   "execution_count": 117,
   "metadata": {},
   "outputs": [],
   "source": [
    "# test_samples = test_data.as_numpy_iterator()\n",
    "# test_sample =test_samples.next()\n",
    "# test_sample[2]"
   ]
  },
  {
   "cell_type": "markdown",
   "metadata": {},
   "source": [
    "Model Engineering"
   ]
  },
  {
   "cell_type": "code",
   "execution_count": 18,
   "metadata": {},
   "outputs": [],
   "source": [
    "def make_embedding():\n",
    "   inp = Input(shape = (299,299,3),name = 'input_image')\n",
    "   base_model = InceptionResNetV2(weights='imagenet', include_top=False,input_tensor=inp)\n",
    "   l_1 = GlobalAveragePooling2D()(base_model.output)\n",
    "   return Model(inputs=[inp],outputs=[l_1],name='feature_extractor_cnn')"
   ]
  },
  {
   "cell_type": "code",
   "execution_count": 19,
   "metadata": {},
   "outputs": [],
   "source": [
    "embedding = make_embedding()\n",
    "# embedding.summary()\n",
    "# print(len(embedding.layers))"
   ]
  },
  {
   "cell_type": "code",
   "execution_count": 20,
   "metadata": {},
   "outputs": [],
   "source": [
    "# making the concat layer \n",
    "class L2Concat(Layer):\n",
    "    def __init__(self,**kwargs):\n",
    "        super().__init__()\n",
    "\n",
    "    def call(self,image_1_embedding,image_2_embedding):\n",
    "         return  tf.concat([image_1_embedding,image_2_embedding],-1)"
   ]
  },
  {
   "cell_type": "code",
   "execution_count": 21,
   "metadata": {},
   "outputs": [],
   "source": [
    "def make_siamese_model():\n",
    "    \n",
    "    input_image_1 = Input(name ='input_img_1',shape = (299,299,3))\n",
    "    input_image_2 = Input(name ='input_img_2',shape = (299,299,3))\n",
    "\n",
    "    siamese_layer = L2Concat()\n",
    "    siamese_layer._name = 'total_features' \n",
    "    \n",
    "    features = siamese_layer(embedding(input_image_1),embedding(input_image_2))\n",
    "\n",
    "    classifier = Dense(1,activation='sigmoid')(features)\n",
    "\n",
    "    # classifier = Dense(2,activation='softmax')(features)\n",
    "\n",
    "    return Model(inputs = [input_image_1,input_image_2],outputs=classifier,name = 'SiameseNetwork')"
   ]
  },
  {
   "cell_type": "code",
   "execution_count": 22,
   "metadata": {},
   "outputs": [],
   "source": [
    "siamese_model = make_siamese_model()\n",
    "# siamese_model.summary()"
   ]
  },
  {
   "cell_type": "markdown",
   "metadata": {},
   "source": [
    "Training"
   ]
  },
  {
   "cell_type": "code",
   "execution_count": 23,
   "metadata": {},
   "outputs": [],
   "source": [
    "# loss function \n",
    "binary_cross_loss =tf.losses.BinaryCrossentropy()\n",
    "# optimizer \n",
    "opt = tf.keras.optimizers.Adam(3e-4)"
   ]
  },
  {
   "cell_type": "code",
   "execution_count": 24,
   "metadata": {},
   "outputs": [],
   "source": [
    "# establishing  checkpoints \n",
    "checkpoint_dir = './training_checkpoints'\n",
    "checkpoint_prefix = os.path.join(checkpoint_dir,'ckpt')\n",
    "checkpoint = tf.train.Checkpoint(opt =opt,siamese_model = siamese_model)"
   ]
  },
  {
   "cell_type": "code",
   "execution_count": 25,
   "metadata": {},
   "outputs": [],
   "source": [
    "# test_batch=train_data.as_numpy_iterator()\n",
    "# batch_1=test_batch.next()\n",
    "# len(batch_1)"
   ]
  },
  {
   "cell_type": "code",
   "execution_count": 26,
   "metadata": {},
   "outputs": [],
   "source": [
    "# len(batch_1[0])\n",
    "# X=batch_1[:2]"
   ]
  },
  {
   "cell_type": "code",
   "execution_count": 27,
   "metadata": {},
   "outputs": [],
   "source": [
    "# np.array(X).shape"
   ]
  },
  {
   "cell_type": "code",
   "execution_count": 28,
   "metadata": {},
   "outputs": [],
   "source": [
    "# y=batch_1[2]\n",
    "# y"
   ]
  },
  {
   "cell_type": "code",
   "execution_count": 29,
   "metadata": {},
   "outputs": [],
   "source": [
    "#Build Train Step function\n",
    "@tf.function\n",
    "def train_step(batch):\n",
    "\n",
    "    with tf.GradientTape() as tape: \n",
    "\n",
    "        X = batch[:2]\n",
    "\n",
    "        y = batch[2]\n",
    "\n",
    "\n",
    "        yhat = siamese_model(X,training =True)\n",
    "\n",
    "        loss = binary_cross_loss(y,yhat)\n",
    "\n",
    "    print(loss)\n",
    "\n",
    "    grad = tape.gradient(loss,siamese_model.trainable_variables)\n",
    "\n",
    "    opt.apply_gradients(zip(grad,siamese_model.trainable_variables))   \n",
    "\n",
    "    return loss\n"
   ]
  },
  {
   "cell_type": "code",
   "execution_count": 30,
   "metadata": {},
   "outputs": [],
   "source": [
    "# build training loop \n",
    "\n",
    "def train(data,EPOCHS):\n",
    "\n",
    "    for epoch in range(1,EPOCHS+1):\n",
    "        print('\\n Epoch {}/{}'.format(epoch,EPOCHS))\n",
    "        progbar = tf.keras.utils.Progbar(len(data))\n",
    "\n",
    "        for idx,batch in enumerate(data):\n",
    "\n",
    "            train_step(batch)\n",
    "            progbar.update(idx+1)\n",
    "\n",
    "        #checkpoints \n",
    "        if epoch%10 == 0:\n",
    "            checkpoint.save(file_prefix = checkpoint_prefix)  "
   ]
  },
  {
   "cell_type": "code",
   "execution_count": 31,
   "metadata": {},
   "outputs": [
    {
     "name": "stdout",
     "output_type": "stream",
     "text": [
      "\n",
      " Epoch 1/50\n",
      "Tensor(\"binary_crossentropy/weighted_loss/value:0\", shape=(), dtype=float32)\n",
      "Tensor(\"binary_crossentropy/weighted_loss/value:0\", shape=(), dtype=float32)\n",
      "175/175 [==============================] - 235s 1s/step\n",
      "\n",
      " Epoch 2/50\n",
      "175/175 [==============================] - 371s 2s/step\n",
      "\n",
      " Epoch 3/50\n",
      "175/175 [==============================] - 530s 3s/step\n",
      "\n",
      " Epoch 4/50\n",
      "175/175 [==============================] - 385s 2s/step\n",
      "\n",
      " Epoch 5/50\n",
      "175/175 [==============================] - 485s 3s/step\n",
      "\n",
      " Epoch 6/50\n",
      "175/175 [==============================] - 451s 3s/step\n",
      "\n",
      " Epoch 7/50\n",
      "175/175 [==============================] - 606s 3s/step\n",
      "\n",
      " Epoch 8/50\n",
      "175/175 [==============================] - 600s 3s/step\n",
      "\n",
      " Epoch 9/50\n",
      "175/175 [==============================] - 521s 3s/step\n",
      "\n",
      " Epoch 10/50\n",
      "175/175 [==============================] - 403s 2s/step\n",
      "\n",
      " Epoch 11/50\n",
      "175/175 [==============================] - 450s 3s/step\n",
      "\n",
      " Epoch 12/50\n",
      "175/175 [==============================] - 503s 3s/step\n",
      "\n",
      " Epoch 13/50\n",
      "175/175 [==============================] - 549s 3s/step\n",
      "\n",
      " Epoch 14/50\n",
      "175/175 [==============================] - 475s 3s/step\n",
      "\n",
      " Epoch 15/50\n",
      "175/175 [==============================] - 468s 3s/step\n",
      "\n",
      " Epoch 16/50\n",
      "175/175 [==============================] - 626s 4s/step\n",
      "\n",
      " Epoch 17/50\n",
      "175/175 [==============================] - 590s 3s/step\n",
      "\n",
      " Epoch 18/50\n",
      "175/175 [==============================] - 423s 2s/step\n",
      "\n",
      " Epoch 19/50\n",
      "175/175 [==============================] - 469s 3s/step\n",
      "\n",
      " Epoch 20/50\n",
      "175/175 [==============================] - 442s 3s/step\n",
      "\n",
      " Epoch 21/50\n",
      "175/175 [==============================] - 428s 2s/step\n",
      "\n",
      " Epoch 22/50\n",
      "175/175 [==============================] - 474s 3s/step\n",
      "\n",
      " Epoch 23/50\n",
      "175/175 [==============================] - 473s 3s/step\n",
      "\n",
      " Epoch 24/50\n",
      "175/175 [==============================] - 507s 3s/step\n",
      "\n",
      " Epoch 25/50\n",
      "175/175 [==============================] - 459s 3s/step\n",
      "\n",
      " Epoch 26/50\n",
      "175/175 [==============================] - 563s 3s/step\n",
      "\n",
      " Epoch 27/50\n",
      "175/175 [==============================] - 514s 3s/step\n",
      "\n",
      " Epoch 28/50\n",
      "175/175 [==============================] - 377s 2s/step\n",
      "\n",
      " Epoch 29/50\n",
      "175/175 [==============================] - 387s 2s/step\n",
      "\n",
      " Epoch 30/50\n",
      "175/175 [==============================] - 458s 3s/step\n",
      "\n",
      " Epoch 31/50\n",
      "175/175 [==============================] - 519s 3s/step\n",
      "\n",
      " Epoch 32/50\n",
      "175/175 [==============================] - 523s 3s/step\n",
      "\n",
      " Epoch 33/50\n",
      "175/175 [==============================] - 445s 3s/step\n",
      "\n",
      " Epoch 34/50\n",
      "175/175 [==============================] - 478s 3s/step\n",
      "\n",
      " Epoch 35/50\n",
      "175/175 [==============================] - 535s 3s/step\n",
      "\n",
      " Epoch 36/50\n",
      "175/175 [==============================] - 468s 3s/step\n",
      "\n",
      " Epoch 37/50\n",
      "175/175 [==============================] - 474s 3s/step\n",
      "\n",
      " Epoch 38/50\n",
      "175/175 [==============================] - 491s 3s/step\n",
      "\n",
      " Epoch 39/50\n",
      "175/175 [==============================] - 490s 3s/step\n",
      "\n",
      " Epoch 40/50\n",
      "175/175 [==============================] - 492s 3s/step\n",
      "\n",
      " Epoch 41/50\n",
      "175/175 [==============================] - 523s 3s/step\n",
      "\n",
      " Epoch 42/50\n",
      "175/175 [==============================] - 403s 2s/step\n",
      "\n",
      " Epoch 43/50\n",
      "175/175 [==============================] - 518s 3s/step\n",
      "\n",
      " Epoch 44/50\n",
      "175/175 [==============================] - 464s 3s/step\n",
      "\n",
      " Epoch 45/50\n",
      "175/175 [==============================] - 454s 3s/step\n",
      "\n",
      " Epoch 46/50\n",
      "175/175 [==============================] - 472s 3s/step\n",
      "\n",
      " Epoch 47/50\n",
      "175/175 [==============================] - 452s 3s/step\n",
      "\n",
      " Epoch 48/50\n",
      "175/175 [==============================] - 502s 3s/step\n",
      "\n",
      " Epoch 49/50\n",
      "175/175 [==============================] - 543s 3s/step\n",
      "\n",
      " Epoch 50/50\n",
      "175/175 [==============================] - 456s 3s/step\n"
     ]
    }
   ],
   "source": [
    "EPOCHS =50\n",
    "\n",
    "train(train_data,EPOCHS)"
   ]
  },
  {
   "cell_type": "markdown",
   "metadata": {},
   "source": [
    "Evaluation "
   ]
  },
  {
   "cell_type": "code",
   "execution_count": 126,
   "metadata": {},
   "outputs": [],
   "source": [
    "test_img1,test_img2,y_true = test_data.as_numpy_iterator().next() "
   ]
  },
  {
   "cell_type": "code",
   "execution_count": 127,
   "metadata": {},
   "outputs": [
    {
     "data": {
      "text/plain": [
       "array([1, 0, 1, 1], dtype=int64)"
      ]
     },
     "execution_count": 127,
     "metadata": {},
     "output_type": "execute_result"
    }
   ],
   "source": [
    "y_true"
   ]
  },
  {
   "cell_type": "code",
   "execution_count": 129,
   "metadata": {},
   "outputs": [
    {
     "name": "stdout",
     "output_type": "stream",
     "text": [
      "1/1 [==============================] - 0s 227ms/step\n"
     ]
    },
    {
     "data": {
      "text/plain": [
       "array([[9.9990010e-01],\n",
       "       [2.0170526e-07],\n",
       "       [9.9999917e-01],\n",
       "       [9.9980313e-01]], dtype=float32)"
      ]
     },
     "execution_count": 129,
     "metadata": {},
     "output_type": "execute_result"
    }
   ],
   "source": [
    "y_hat = siamese_model.predict([test_img1,test_img2])\n",
    "y_hat"
   ]
  },
  {
   "cell_type": "code",
   "execution_count": 135,
   "metadata": {},
   "outputs": [],
   "source": [
    "y__ = [1 if prediction > 0.5 else 0 for prediction in y_hat]"
   ]
  },
  {
   "cell_type": "code",
   "execution_count": 136,
   "metadata": {},
   "outputs": [
    {
     "data": {
      "text/plain": [
       "[1, 0, 1, 1]"
      ]
     },
     "execution_count": 136,
     "metadata": {},
     "output_type": "execute_result"
    }
   ],
   "source": [
    "y__"
   ]
  },
  {
   "cell_type": "code",
   "execution_count": 131,
   "metadata": {},
   "outputs": [
    {
     "data": {
      "text/plain": [
       "1.0"
      ]
     },
     "execution_count": 131,
     "metadata": {},
     "output_type": "execute_result"
    }
   ],
   "source": [
    "r = Recall()\n",
    "\n",
    "r.update_state(y_true,y_hat)\n",
    "\n",
    "recall_batch = r.result().numpy()"
   ]
  },
  {
   "cell_type": "code",
   "execution_count": 132,
   "metadata": {},
   "outputs": [
    {
     "name": "stdout",
     "output_type": "stream",
     "text": [
      "1.0\n"
     ]
    }
   ],
   "source": [
    "p= Precision()\n",
    "\n",
    "p.update_state(y_true,y_hat)\n",
    "\n",
    "precision_batch = p.result().numpy()\n",
    "\n"
   ]
  },
  {
   "cell_type": "code",
   "execution_count": 152,
   "metadata": {},
   "outputs": [],
   "source": [
    "precision_values = []\n",
    "recall_values = []\n",
    "y_true_total = []\n",
    "y_hat_total = []\n"
   ]
  },
  {
   "cell_type": "code",
   "execution_count": 153,
   "metadata": {},
   "outputs": [
    {
     "name": "stdout",
     "output_type": "stream",
     "text": [
      "1/1 [==============================] - 0s 263ms/step\n",
      "[0 1 1 1]\n",
      "[[8.1720182e-06]\n",
      " [9.9989772e-01]\n",
      " [9.3562728e-01]\n",
      " [9.8659617e-01]]\n",
      "[0, 1, 1, 1]\n",
      "1/1 [==============================] - 0s 80ms/step\n",
      "[1 0 0 0]\n",
      "[[9.9996066e-01]\n",
      " [1.0403514e-07]\n",
      " [2.2459773e-12]\n",
      " [5.9494315e-13]]\n",
      "[1, 0, 0, 0]\n",
      "1/1 [==============================] - 0s 86ms/step\n",
      "[1 1 0 1]\n",
      "[[9.6593261e-01]\n",
      " [9.9995565e-01]\n",
      " [1.2604176e-04]\n",
      " [9.9359196e-01]]\n",
      "[1, 1, 0, 1]\n",
      "1/1 [==============================] - 0s 92ms/step\n",
      "[0 0 1 1]\n",
      "[[1.5165813e-14]\n",
      " [2.9322490e-02]\n",
      " [9.9940968e-01]\n",
      " [9.9999905e-01]]\n",
      "[0, 0, 1, 1]\n",
      "1/1 [==============================] - 0s 82ms/step\n",
      "[1 1 0 1]\n",
      "[[9.9993300e-01]\n",
      " [9.8416358e-01]\n",
      " [1.0814568e-05]\n",
      " [9.8874247e-01]]\n",
      "[1, 1, 0, 1]\n",
      "1/1 [==============================] - 0s 77ms/step\n",
      "[1 1 1 1]\n",
      "[[0.99958235]\n",
      " [0.99966335]\n",
      " [0.9980901 ]\n",
      " [0.9652585 ]]\n",
      "[1, 1, 1, 1]\n",
      "1/1 [==============================] - 0s 75ms/step\n",
      "[0 1 1 0]\n",
      "[[1.8608046e-09]\n",
      " [9.9994576e-01]\n",
      " [9.9987662e-01]\n",
      " [3.4173701e-07]]\n",
      "[0, 1, 1, 0]\n",
      "1/1 [==============================] - 0s 86ms/step\n",
      "[0 1 1 1]\n",
      "[[3.9477902e-18]\n",
      " [9.9204504e-01]\n",
      " [9.9985778e-01]\n",
      " [9.9388582e-01]]\n",
      "[0, 1, 1, 1]\n",
      "1/1 [==============================] - 0s 76ms/step\n",
      "[1 1 0 0]\n",
      "[[9.9937004e-01]\n",
      " [9.9999952e-01]\n",
      " [2.4945665e-13]\n",
      " [1.2171021e-10]]\n",
      "[1, 1, 0, 0]\n",
      "1/1 [==============================] - 0s 77ms/step\n",
      "[0 0 1 1]\n",
      "[[1.1793779e-06]\n",
      " [2.5828507e-05]\n",
      " [9.9994528e-01]\n",
      " [9.9999344e-01]]\n",
      "[0, 0, 1, 1]\n",
      "1/1 [==============================] - 0s 80ms/step\n",
      "[1 0 0 1]\n",
      "[[9.9940968e-01]\n",
      " [1.8199728e-04]\n",
      " [6.5191681e-14]\n",
      " [9.9848831e-01]]\n",
      "[1, 0, 0, 1]\n",
      "1/1 [==============================] - 0s 76ms/step\n",
      "[0 1 1 0]\n",
      "[[1.6463050e-11]\n",
      " [9.9877697e-01]\n",
      " [9.6593261e-01]\n",
      " [1.0275956e-02]]\n",
      "[0, 1, 1, 0]\n",
      "1/1 [==============================] - 0s 75ms/step\n",
      "[1 1 1 0]\n",
      "[[0.9993168 ]\n",
      " [0.9943692 ]\n",
      " [0.99999785]\n",
      " [0.00315855]]\n",
      "[1, 1, 1, 0]\n",
      "1/1 [==============================] - 0s 80ms/step\n",
      "[0 1 0 0]\n",
      "[[7.756386e-01]\n",
      " [9.998870e-01]\n",
      " [2.910553e-07]\n",
      " [4.924198e-04]]\n",
      "[1, 1, 0, 0]\n",
      "1/1 [==============================] - 0s 77ms/step\n",
      "[0 1 1 1]\n",
      "[[5.3890164e-14]\n",
      " [9.9954742e-01]\n",
      " [9.9951732e-01]\n",
      " [6.6884536e-01]]\n",
      "[0, 1, 1, 1]\n",
      "1/1 [==============================] - 0s 76ms/step\n",
      "[0 0 1 0]\n",
      "[[5.7735000e-05]\n",
      " [3.6937564e-03]\n",
      " [9.9999964e-01]\n",
      " [2.2828521e-04]]\n",
      "[0, 0, 1, 0]\n",
      "1/1 [==============================] - 0s 75ms/step\n",
      "[1 0 0 1]\n",
      "[[9.9999833e-01]\n",
      " [3.0745579e-02]\n",
      " [1.3823039e-07]\n",
      " [9.9998927e-01]]\n",
      "[1, 0, 0, 1]\n",
      "1/1 [==============================] - 0s 81ms/step\n",
      "[0 1 1 1]\n",
      "[[0.00707598]\n",
      " [0.99163425]\n",
      " [0.99992824]\n",
      " [0.99991834]]\n",
      "[0, 1, 1, 1]\n",
      "1/1 [==============================] - 0s 78ms/step\n",
      "[0 0 1 0]\n",
      "[[6.8907319e-08]\n",
      " [5.2907257e-03]\n",
      " [7.3857665e-01]\n",
      " [8.7031804e-04]]\n",
      "[0, 0, 1, 0]\n",
      "1/1 [==============================] - 0s 76ms/step\n",
      "[1 0 1 1]\n",
      "[[0.99994385]\n",
      " [0.00373533]\n",
      " [0.9659326 ]\n",
      " [0.99995816]]\n",
      "[1, 0, 1, 1]\n",
      "1/1 [==============================] - 0s 76ms/step\n",
      "[1 0 0 1]\n",
      "[[9.8042321e-01]\n",
      " [3.1589723e-05]\n",
      " [5.7524773e-07]\n",
      " [9.9982244e-01]]\n",
      "[1, 0, 0, 1]\n",
      "1/1 [==============================] - 0s 75ms/step\n",
      "[0 0 0 0]\n",
      "[[1.7802088e-06]\n",
      " [1.5209001e-05]\n",
      " [6.0395301e-08]\n",
      " [5.7377729e-06]]\n",
      "[0, 0, 0, 0]\n",
      "1/1 [==============================] - 0s 83ms/step\n",
      "[1 0 1 0]\n",
      "[[9.0071195e-01]\n",
      " [8.1705331e-08]\n",
      " [9.9254614e-01]\n",
      " [1.0270501e-09]]\n",
      "[1, 0, 1, 0]\n",
      "1/1 [==============================] - 0s 83ms/step\n",
      "[1 1 1 1]\n",
      "[[0.9938858 ]\n",
      " [0.9994642 ]\n",
      " [0.99998295]\n",
      " [0.99999905]]\n",
      "[1, 1, 1, 1]\n",
      "1/1 [==============================] - 0s 75ms/step\n",
      "[0 0 1 0]\n",
      "[[3.9582726e-17]\n",
      " [1.9273807e-08]\n",
      " [9.9983001e-01]\n",
      " [1.0814568e-05]]\n",
      "[0, 0, 1, 0]\n",
      "1/1 [==============================] - 0s 75ms/step\n",
      "[1 1 1 0]\n",
      "[[9.9933785e-01]\n",
      " [9.9788493e-01]\n",
      " [9.9999905e-01]\n",
      " [3.7566691e-10]]\n",
      "[1, 1, 1, 0]\n",
      "1/1 [==============================] - 0s 76ms/step\n",
      "[0 1 0 0]\n",
      "[[3.4173701e-07]\n",
      " [9.9951363e-01]\n",
      " [2.5828507e-05]\n",
      " [1.3278933e-03]]\n",
      "[0, 1, 0, 0]\n",
      "1/1 [==============================] - 0s 78ms/step\n",
      "[0 0 1 0]\n",
      "[[3.5139667e-09]\n",
      " [4.2059626e-03]\n",
      " [9.7654951e-01]\n",
      " [4.9454243e-06]]\n",
      "[0, 0, 1, 0]\n",
      "1/1 [==============================] - 0s 75ms/step\n",
      "[0 1 1 0]\n",
      "[[1.2487052e-05]\n",
      " [9.9928504e-01]\n",
      " [9.6528083e-01]\n",
      " [6.9504796e-04]]\n",
      "[0, 1, 1, 0]\n",
      "1/1 [==============================] - 0s 90ms/step\n",
      "[1 1 0 0]\n",
      "[[9.9998558e-01]\n",
      " [9.9999928e-01]\n",
      " [1.9548372e-06]\n",
      " [2.9695552e-17]]\n",
      "[1, 1, 0, 0]\n",
      "1/1 [==============================] - 0s 75ms/step\n",
      "[0 1 1 0]\n",
      "[[4.9048071e-11]\n",
      " [9.9998736e-01]\n",
      " [9.7277820e-01]\n",
      " [9.5588231e-09]]\n",
      "[0, 1, 1, 0]\n",
      "1/1 [==============================] - 0s 75ms/step\n",
      "[1 1 0 0]\n",
      "[[9.9898225e-01]\n",
      " [9.9342173e-01]\n",
      " [2.0306763e-10]\n",
      " [1.3848548e-16]]\n",
      "[1, 1, 0, 0]\n",
      "1/1 [==============================] - 0s 77ms/step\n",
      "[1 1 0 0]\n",
      "[[9.9999869e-01]\n",
      " [9.9773479e-01]\n",
      " [2.9450575e-06]\n",
      " [1.1219797e-05]]\n",
      "[1, 1, 0, 0]\n",
      "1/1 [==============================] - 0s 78ms/step\n",
      "[1 1 1 0]\n",
      "[[9.9926513e-01]\n",
      " [9.9987018e-01]\n",
      " [9.9993849e-01]\n",
      " [2.1845752e-08]]\n",
      "[1, 1, 1, 0]\n",
      "1/1 [==============================] - 0s 75ms/step\n",
      "[1 0 1 1]\n",
      "[[9.9997783e-01]\n",
      " [2.5672835e-11]\n",
      " [9.9989486e-01]\n",
      " [9.9989009e-01]]\n",
      "[1, 0, 1, 1]\n",
      "1/1 [==============================] - 0s 82ms/step\n",
      "[1 1 1 0]\n",
      "[[9.8936301e-01]\n",
      " [9.9995172e-01]\n",
      " [9.9943238e-01]\n",
      " [4.4885182e-04]]\n",
      "[1, 1, 1, 0]\n",
      "1/1 [==============================] - 0s 74ms/step\n",
      "[0 0 0 0]\n",
      "[[7.9112097e-06]\n",
      " [7.9362650e-09]\n",
      " [4.0373928e-03]\n",
      " [1.0869148e-08]]\n",
      "[0, 0, 0, 0]\n",
      "1/1 [==============================] - 0s 78ms/step\n",
      "[1 1 0 0]\n",
      "[[9.9163425e-01]\n",
      " [9.9962437e-01]\n",
      " [1.6463050e-11]\n",
      " [3.7825135e-08]]\n",
      "[1, 1, 0, 0]\n",
      "1/1 [==============================] - 0s 76ms/step\n",
      "[0 0 0 0]\n",
      "[[1.6026962e-06]\n",
      " [9.6992692e-12]\n",
      " [6.0487050e-06]\n",
      " [1.5958369e-03]]\n",
      "[0, 0, 0, 0]\n",
      "1/1 [==============================] - 0s 75ms/step\n",
      "[1 1 1 0]\n",
      "[[9.9999988e-01]\n",
      " [9.9994576e-01]\n",
      " [8.7506914e-01]\n",
      " [2.7655872e-13]]\n",
      "[1, 1, 1, 0]\n",
      "1/1 [==============================] - 0s 76ms/step\n",
      "[0 0 1 0]\n",
      "[[1.4875292e-04]\n",
      " [1.5572949e-05]\n",
      " [9.6042454e-01]\n",
      " [3.9776012e-02]]\n",
      "[0, 0, 1, 0]\n",
      "1/1 [==============================] - 0s 76ms/step\n",
      "[0 1 0 0]\n",
      "[[1.0270501e-09]\n",
      " [9.9999404e-01]\n",
      " [5.6343968e-10]\n",
      " [4.2059626e-03]]\n",
      "[0, 1, 0, 0]\n",
      "1/1 [==============================] - 0s 75ms/step\n",
      "[0 1 1 1]\n",
      "[[1.2334461e-08]\n",
      " [9.8125803e-01]\n",
      " [9.9993229e-01]\n",
      " [9.9999225e-01]]\n",
      "[0, 1, 1, 1]\n",
      "1/1 [==============================] - 0s 77ms/step\n",
      "[0 1 0 1]\n",
      "[[6.3221235e-15]\n",
      " [9.9288028e-01]\n",
      " [3.9477902e-18]\n",
      " [9.9994409e-01]]\n",
      "[0, 1, 0, 1]\n",
      "1/1 [==============================] - 0s 78ms/step\n",
      "[1 0 0 0]\n",
      "[[9.9986112e-01]\n",
      " [9.7889586e-07]\n",
      " [1.4582572e-17]\n",
      " [4.1442121e-08]]\n",
      "[1, 0, 0, 0]\n",
      "1/1 [==============================] - 0s 81ms/step\n",
      "[0 1 0 1]\n",
      "[[3.9477902e-18]\n",
      " [9.9928504e-01]\n",
      " [1.2859022e-06]\n",
      " [9.9999774e-01]]\n",
      "[0, 1, 0, 1]\n",
      "1/1 [==============================] - 0s 75ms/step\n",
      "[0 1 0 1]\n",
      "[[1.4215322e-09]\n",
      " [9.9999189e-01]\n",
      " [1.1703395e-02]\n",
      " [9.9954754e-01]]\n",
      "[0, 1, 0, 1]\n",
      "1/1 [==============================] - 0s 75ms/step\n",
      "[0 1 1 0]\n",
      "[[1.1457006e-03]\n",
      " [9.9992752e-01]\n",
      " [9.8917365e-01]\n",
      " [3.5139667e-09]]\n",
      "[0, 1, 1, 0]\n",
      "1/1 [==============================] - 0s 77ms/step\n",
      "[0 0 1 0]\n",
      "[[2.7655872e-13]\n",
      " [1.9173316e-05]\n",
      " [9.9982917e-01]\n",
      " [1.4582572e-17]]\n",
      "[0, 0, 1, 0]\n",
      "1/1 [==============================] - 0s 75ms/step\n",
      "[1 0 1 0]\n",
      "[[9.9983001e-01]\n",
      " [1.1047054e-05]\n",
      " [9.9996412e-01]\n",
      " [1.3962871e-07]]\n",
      "[1, 0, 1, 0]\n",
      "1/1 [==============================] - 0s 78ms/step\n",
      "[1 1 1 1]\n",
      "[[0.99999774]\n",
      " [0.98917365]\n",
      " [0.9999999 ]\n",
      " [0.98737633]]\n",
      "[1, 1, 1, 1]\n",
      "1/1 [==============================] - 0s 77ms/step\n",
      "[0 0 0 0]\n",
      "[[1.51947197e-05]\n",
      " [1.02705011e-09]\n",
      " [1.64630497e-11]\n",
      " [1.14551425e-01]]\n",
      "[0, 0, 0, 0]\n",
      "1/1 [==============================] - 0s 79ms/step\n",
      "[0 0 1 0]\n",
      "[[2.6373793e-06]\n",
      " [1.4178590e-04]\n",
      " [9.9193078e-01]\n",
      " [6.4523407e-04]]\n",
      "[0, 0, 1, 0]\n",
      "1/1 [==============================] - 0s 77ms/step\n",
      "[1 0 0 1]\n",
      "[[9.9999702e-01]\n",
      " [1.5717093e-03]\n",
      " [2.3570459e-05]\n",
      " [9.9996531e-01]]\n",
      "[1, 0, 0, 1]\n",
      "1/1 [==============================] - 0s 75ms/step\n",
      "[1 0 1 0]\n",
      "[[9.9999130e-01]\n",
      " [5.5671704e-04]\n",
      " [9.9975008e-01]\n",
      " [1.5717093e-03]]\n",
      "[1, 0, 1, 0]\n",
      "1/1 [==============================] - 0s 82ms/step\n",
      "[1 1 0 1]\n",
      "[[9.9999654e-01]\n",
      " [9.9995005e-01]\n",
      " [1.0003002e-06]\n",
      " [9.9737835e-01]]\n",
      "[1, 1, 0, 1]\n",
      "1/1 [==============================] - 0s 75ms/step\n",
      "[0 1 1 1]\n",
      "[[3.7566691e-10]\n",
      " [9.9994528e-01]\n",
      " [9.9989009e-01]\n",
      " [9.9999857e-01]]\n",
      "[0, 1, 1, 1]\n",
      "1/1 [==============================] - 0s 75ms/step\n",
      "[1 0 0 0]\n",
      "[[9.9999976e-01]\n",
      " [9.6171994e-16]\n",
      " [5.0692428e-12]\n",
      " [1.7214722e-04]]\n",
      "[1, 0, 0, 0]\n",
      "1/1 [==============================] - 0s 75ms/step\n",
      "[0 1 0 0]\n",
      "[[1.0340058e-06]\n",
      " [9.9999452e-01]\n",
      " [1.8915704e-03]\n",
      " [1.8625333e-05]]\n",
      "[0, 1, 0, 0]\n",
      "1/1 [==============================] - 0s 76ms/step\n",
      "[0 1 0 1]\n",
      "[[4.9241981e-04]\n",
      " [9.9994946e-01]\n",
      " [3.0976176e-04]\n",
      " [9.9589819e-01]]\n",
      "[0, 1, 0, 1]\n",
      "1/1 [==============================] - 0s 74ms/step\n",
      "[0 1 1 1]\n",
      "[[6.1251626e-10]\n",
      " [9.9999785e-01]\n",
      " [9.9951363e-01]\n",
      " [9.9998236e-01]]\n",
      "[0, 1, 1, 1]\n",
      "1/1 [==============================] - 0s 76ms/step\n",
      "[1 0 1 0]\n",
      "[[9.9999988e-01]\n",
      " [1.1643235e-10]\n",
      " [9.9999630e-01]\n",
      " [4.8933265e-07]]\n",
      "[1, 0, 1, 0]\n",
      "1/1 [==============================] - 0s 75ms/step\n",
      "[1 0 0 0]\n",
      "[[9.9999988e-01]\n",
      " [3.5139667e-09]\n",
      " [2.2459773e-12]\n",
      " [2.9105530e-07]]\n",
      "[1, 0, 0, 0]\n",
      "1/1 [==============================] - 0s 74ms/step\n",
      "[1 0 1 1]\n",
      "[[9.9539524e-01]\n",
      " [1.4178590e-04]\n",
      " [9.9982387e-01]\n",
      " [9.5684528e-01]]\n",
      "[1, 0, 1, 1]\n",
      "1/1 [==============================] - 0s 75ms/step\n",
      "[1 1 0 1]\n",
      "[[0.9998031 ]\n",
      " [0.99998784]\n",
      " [0.01424734]\n",
      " [0.9999453 ]]\n",
      "[1, 1, 0, 1]\n",
      "1/1 [==============================] - 0s 80ms/step\n",
      "[1 0 1 0]\n",
      "[[9.9905318e-01]\n",
      " [2.5282266e-06]\n",
      " [1.0000000e+00]\n",
      " [5.0783030e-15]]\n",
      "[1, 0, 1, 0]\n",
      "1/1 [==============================] - 0s 75ms/step\n",
      "[1 1 1 0]\n",
      "[[0.9996741 ]\n",
      " [1.        ]\n",
      " [0.99254614]\n",
      " [0.0038298 ]]\n",
      "[1, 1, 1, 0]\n",
      "1/1 [==============================] - 0s 76ms/step\n",
      "[1 1 1 1]\n",
      "[[0.97037685]\n",
      " [0.96386456]\n",
      " [0.99999   ]\n",
      " [0.99971646]]\n",
      "[1, 1, 1, 1]\n",
      "1/1 [==============================] - 0s 76ms/step\n",
      "[0 1 0 1]\n",
      "[[2.9084282e-09]\n",
      " [9.6946031e-01]\n",
      " [3.0670297e-09]\n",
      " [9.9998546e-01]]\n",
      "[0, 1, 0, 1]\n",
      "1/1 [==============================] - 0s 77ms/step\n",
      "[1 0 1 1]\n",
      "[[9.9767774e-01]\n",
      " [1.3962871e-07]\n",
      " [9.9629742e-01]\n",
      " [9.9735689e-01]]\n",
      "[1, 0, 1, 1]\n",
      "1/1 [==============================] - 0s 75ms/step\n",
      "[0 1 1 1]\n",
      "[[4.2804832e-10]\n",
      " [9.9999428e-01]\n",
      " [9.9987662e-01]\n",
      " [9.9997830e-01]]\n",
      "[0, 1, 1, 1]\n",
      "1/1 [==============================] - 0s 78ms/step\n",
      "[0 0 0 0]\n",
      "[[3.3649823e-04]\n",
      " [3.0795784e-14]\n",
      " [8.2126398e-08]\n",
      " [2.9335726e-05]]\n",
      "[0, 0, 0, 0]\n",
      "1/1 [==============================] - 0s 75ms/step\n",
      "[1 1 1 0]\n",
      "[[9.7654951e-01]\n",
      " [9.9997532e-01]\n",
      " [9.9999118e-01]\n",
      " [1.9270593e-04]]\n",
      "[1, 1, 1, 0]\n",
      "1/1 [==============================] - 0s 78ms/step\n",
      "[0 1 1 0]\n",
      "[[1.7089505e-05]\n",
      " [9.6042454e-01]\n",
      " [9.8349196e-01]\n",
      " [6.0209109e-11]]\n",
      "[0, 1, 1, 0]\n",
      "1/1 [==============================] - 0s 76ms/step\n",
      "[0 1 0 0]\n",
      "[[6.2480359e-03]\n",
      " [9.9589819e-01]\n",
      " [3.0322049e-17]\n",
      " [1.1643235e-10]]\n",
      "[0, 1, 0, 0]\n"
     ]
    }
   ],
   "source": [
    "for i in range(0,75):\n",
    "    \n",
    "    test_img1,test_img2,y_true = test_data.as_numpy_iterator().next() \n",
    "    \n",
    "    y_hat = siamese_model.predict([test_img1,test_img2])\n",
    "     \n",
    "    y_hat_rounded =  [1 if prediction > 0.5 else 0 for prediction in y_hat]\n",
    "    \n",
    "    print(y_true)\n",
    "    print(y_hat)\n",
    "    print(y_hat_rounded)\n",
    "\n",
    "    y_true_total.extend(y_true)\n",
    "    y_hat_total.extend(y_hat_rounded)\n",
    "\n",
    "\n",
    "\n",
    "    r = Recall()\n",
    "    r.update_state(y_true,y_hat)\n",
    "    recall_batch = r.result().numpy()\n",
    "\n",
    "    p = Precision()\n",
    "    p.update_state(y_true,y_hat)\n",
    "    precision_batch = p.result().numpy()\n",
    "    \n",
    "    precision_values.append(precision_batch)\n",
    "    recall_values.append(recall_batch)\n",
    "\n"
   ]
  },
  {
   "cell_type": "code",
   "execution_count": 154,
   "metadata": {},
   "outputs": [
    {
     "name": "stdout",
     "output_type": "stream",
     "text": [
      "75\n",
      "75\n",
      "300\n",
      "300\n"
     ]
    }
   ],
   "source": [
    "print(len(recall_values))\n",
    "print(len(precision_values))\n",
    "print(len(y_true_total))\n",
    "print(len(y_hat_total))"
   ]
  },
  {
   "cell_type": "code",
   "execution_count": 155,
   "metadata": {},
   "outputs": [],
   "source": [
    "def calc_avg(lst):\n",
    "    return sum(lst) / len(lst)"
   ]
  },
  {
   "cell_type": "code",
   "execution_count": 156,
   "metadata": {},
   "outputs": [],
   "source": [
    "def calc_accuracy(true_values,predicted_values):\n",
    "    res=0\n",
    "    for i in range(0,len(true_values)):\n",
    "           if(true_values[i]==predicted_values[i]):\n",
    "            res+=1\n",
    "\n",
    "    return ((res/len(true_values))*100)\n",
    "\n"
   ]
  },
  {
   "cell_type": "code",
   "execution_count": 157,
   "metadata": {},
   "outputs": [],
   "source": [
    "recall_avg = calc_avg(recall_values)\n",
    "precision_avg = calc_avg(precision_values)\n",
    "accuracy = calc_accuracy(y_true_total,y_hat_total)"
   ]
  },
  {
   "cell_type": "code",
   "execution_count": 158,
   "metadata": {},
   "outputs": [
    {
     "name": "stdout",
     "output_type": "stream",
     "text": [
      "Precision = 0.9266666666666666\n"
     ]
    }
   ],
   "source": [
    "print('Precision = {}'.format(precision_avg))"
   ]
  },
  {
   "cell_type": "code",
   "execution_count": 159,
   "metadata": {},
   "outputs": [
    {
     "name": "stdout",
     "output_type": "stream",
     "text": [
      "Recall = 0.9333333333333333\n"
     ]
    }
   ],
   "source": [
    "print('Recall = {}'.format(recall_avg))"
   ]
  },
  {
   "cell_type": "code",
   "execution_count": 161,
   "metadata": {},
   "outputs": [
    {
     "name": "stdout",
     "output_type": "stream",
     "text": [
      "Accuracy = 99.66666666666667%\n"
     ]
    }
   ],
   "source": [
    "print('Accuracy = {}%'.format(accuracy))"
   ]
  },
  {
   "cell_type": "code",
   "execution_count": 162,
   "metadata": {},
   "outputs": [
    {
     "name": "stdout",
     "output_type": "stream",
     "text": [
      "WARNING:tensorflow:Compiled the loaded model, but the compiled metrics have yet to be built. `model.compile_metrics` will be empty until you train or evaluate the model.\n"
     ]
    }
   ],
   "source": [
    "siamese_model.save('siamesemodel.h5')"
   ]
  },
  {
   "cell_type": "code",
   "execution_count": 165,
   "metadata": {},
   "outputs": [
    {
     "name": "stdout",
     "output_type": "stream",
     "text": [
      "WARNING:tensorflow:No training configuration found in the save file, so the model was *not* compiled. Compile it manually.\n"
     ]
    }
   ],
   "source": [
    "model =tf.keras.models.load_model('siamesemodel.h5',custom_objects={'L2Concat':L2Concat,'BinaryCrossentropy':tf.losses.BinaryCrossentropy})"
   ]
  }
 ],
 "metadata": {
  "kernelspec": {
   "display_name": "skdet_tf",
   "language": "python",
   "name": "python3"
  },
  "language_info": {
   "codemirror_mode": {
    "name": "ipython",
    "version": 3
   },
   "file_extension": ".py",
   "mimetype": "text/x-python",
   "name": "python",
   "nbconvert_exporter": "python",
   "pygments_lexer": "ipython3",
   "version": "3.10.11"
  },
  "orig_nbformat": 4
 },
 "nbformat": 4,
 "nbformat_minor": 2
}
